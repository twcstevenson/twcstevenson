{
 "cells": [
  {
   "cell_type": "code",
   "execution_count": 72,
   "id": "e23d693b-cc4a-42b4-a75f-41a284639dd8",
   "metadata": {},
   "outputs": [],
   "source": [
    "import pandas as pd\n",
    "import matplotlib.pyplot as plt\n",
    "import math\n",
    "import scipy\n",
    "import numpy as np\n",
    "import ipywidgets as widgets\n",
    "import os, glob\n",
    "\n",
    "from scipy import optimize\n",
    "from scipy.optimize import minimize, minimize_scalar, curve_fit\n",
    "from ipywidgets import interact, interactive, fixed, interact_manual, interactive_output"
   ]
  },
  {
   "cell_type": "code",
   "execution_count": 73,
   "id": "3fb0b9db-a9cd-40ad-8e51-d3801ee583a2",
   "metadata": {},
   "outputs": [],
   "source": [
    "# Load the data (CSV format)\n",
    "\n",
    "# df = pd.read_csv('Queensland_2023_fireball_data.csv', names = [\"No\", \"Station ID\", \"Ignore\", \"Time\", \"JD\", \"meas1\", \"meas2\", \"Azim +E of due N\", \"Alt\", \"Azim line\", \"Alt line\", \"RA obs\", \"Dec obs\", \"RA line\", \"Dec line\", \"X\", \"Y\", \"Z\", \"Latitude\", \"Longitude\", \"Height\", \"Range\", \"Length\", \"State vect dist\", \"Lag\", \"Velocity\", \"Vel prev avg\", \"H res\", \"V res\", \"Ang res\", \"AppMag\", \"AbsMag\"])\n",
    "# df = pd.read_csv('Tekapo_2024_fireball_data.csv', names = [\"No\", \"Station ID\", \"Ignore\", \"Time\", \"JD\", \"meas1\", \"meas2\", \"Azim +E of due N\", \"Alt\", \"Azim line\", \"Alt line\", \"RA obs\", \"Dec obs\", \"RA line\", \"Dec line\", \"X\", \"Y\", \"Z\", \"Latitude\", \"Longitude\", \"Height\", \"Range\", \"Length\", \"State vect dist\", \"Lag\", \"Velocity\", \"Vel prev avg\", \"H res\", \"V res\", \"Ang res\", \"AppMag\", \"AbsMag\"])\n",
    "df = pd.read_csv('Winchcombe_fireball_data.csv', names = [\"No\", \"Station ID\", \"Ignore\", \"Time\", \"JD\", \"meas1\", \"meas2\", \"Azim +E of due N\", \"Alt\", \"Azim line\", \"Alt line\", \"RA obs\", \"Dec obs\", \"RA line\", \"Dec line\", \"X\", \"Y\", \"Z\", \"Latitude\", \"Longitude\", \"Height\", \"Range\", \"Length\", \"State vect dist\", \"Lag\", \"Velocity\", \"Vel prev avg\", \"H res\", \"V res\", \"Ang res\", \"AppMag\", \"AbsMag\"])\n",
    "\n",
    "# df = pd.read_csv('Pribram_fireball_data.csv', names = [\"Source\", \"Height\", \"Velocity\"])\n",
    "# df = pd.read_csv('Lost_City_fireball_data.csv', names = [\"Source\", \"Height\", \"Velocity\"])\n",
    "# df = pd.read_csv('Innisfree_fireball_data.csv', names = [\"Source\", \"Height\", \"Velocity\"])\n",
    "\n",
    "# Provide event name\n",
    "\n",
    "event = \"Winchcombe\""
   ]
  },
  {
   "cell_type": "code",
   "execution_count": 74,
   "id": "09d9ead4-1be3-46cb-8c59-19027cd3a062",
   "metadata": {
    "scrolled": true
   },
   "outputs": [
    {
     "name": "stdout",
     "output_type": "stream",
     "text": [
      "  No         Station ID Ignore      Time           JD      meas1     meas2  \\\n",
      "1  0   Hullavington_end      0   6.28066  2459274.413  331.55593   76.2895   \n",
      "2  1   Hullavington_end      0  6.320692  2459274.413  330.51725  76.21503   \n",
      "3  2   Hullavington_end      0  6.360724  2459274.413  328.53854  76.06407   \n",
      "4  3   Hullavington_end      0  6.400756  2459274.413  326.98291  75.96838   \n",
      "5  4   Hullavington_end      0  6.440788  2459274.413  325.68881  75.86714   \n",
      "\n",
      "  Azim +E of due N       Alt  Azim line  ...   Length State vect dist  \\\n",
      "1        352.26759  38.93208   352.2298  ...        0        83094.18   \n",
      "2        352.53185  38.77676  352.50268  ...   295.29        83389.47   \n",
      "3        353.04241   38.4795  353.03094  ...   852.58        83946.76   \n",
      "4        353.46253  38.27459  353.43973  ...  1287.07        84381.25   \n",
      "5        353.81017  38.08827  353.78566  ...  1656.99        84751.17   \n",
      "\n",
      "        Lag  Velocity Vel prev avg   H res   V res Ang res AppMag AbsMag  \n",
      "1  -3456.68         0     11037.44  -45.64  -30.25  196.63   9.49  10.69  \n",
      "2  -3714.93   7376.32     11037.44  -35.06  -23.25  151.39   9.48  10.69  \n",
      "3  -3711.18  13921.14     11037.44  -13.65   -9.06    59.2   9.46  10.68  \n",
      "4  -3830.22  10853.63     11037.44  -26.95  -17.89  117.25   9.44  10.66  \n",
      "5  -4013.84   9240.56     10755.81  -28.81  -19.12  125.69   9.43  10.66  \n",
      "\n",
      "[5 rows x 32 columns]\n",
      "     No       Station ID Ignore      Time           JD      meas1     meas2  \\\n",
      "518  36          Honiton      0  3.599937  2459274.413  270.14047  59.21317   \n",
      "519  37          Honiton      0   3.63333  2459274.413  270.01294   59.0395   \n",
      "520  38          Honiton      0  3.666603  2459274.413  269.85167  58.86509   \n",
      "521  39          Honiton      0   3.73331  2459274.413  269.58122  58.57446   \n",
      "522  40          Honiton      0  3.800016  2459274.413  269.44431  58.07073   \n",
      "\n",
      "    Azim +E of due N       Alt Azim line  ...    Length State vect dist  \\\n",
      "518         18.26562  23.46091  18.29797  ...  30633.08        49282.79   \n",
      "519         18.40467  23.32615  18.43516  ...  31102.68         49752.4   \n",
      "520         18.56184  23.19776  18.57723  ...   31589.5        50239.21   \n",
      "521         18.82566  22.98494  18.81309  ...  32404.66        51054.37   \n",
      "522         19.11113  22.54948  19.17878  ...  33659.67        52309.38   \n",
      "\n",
      "         Lag  Velocity Vel prev avg   H res   V res Ang res AppMag AbsMag  \n",
      "518   -200.8  11817.64      13682.2   86.93   52.97  147.13  10.26   9.49  \n",
      "519  -192.94  14062.73     13682.51   81.96   49.94  138.71  10.26   9.49  \n",
      "520   -166.2  14630.98     13684.71   41.36   25.19   69.99  10.25   9.48  \n",
      "521  -273.42  12220.06     13680.86   -33.8  -20.57   57.18  10.25   9.48  \n",
      "522    59.23  18814.02     13696.82  182.03  111.09  308.09  10.24   9.47  \n",
      "\n",
      "[5 rows x 32 columns]\n",
      "<class 'pandas.core.frame.DataFrame'>\n",
      "RangeIndex: 522 entries, 1 to 522\n",
      "Data columns (total 32 columns):\n",
      " #   Column            Non-Null Count  Dtype \n",
      "---  ------            --------------  ----- \n",
      " 0   No                522 non-null    object\n",
      " 1   Station ID        522 non-null    object\n",
      " 2   Ignore            522 non-null    object\n",
      " 3   Time              522 non-null    object\n",
      " 4   JD                522 non-null    object\n",
      " 5   meas1             522 non-null    object\n",
      " 6   meas2             522 non-null    object\n",
      " 7   Azim +E of due N  522 non-null    object\n",
      " 8   Alt               522 non-null    object\n",
      " 9   Azim line         522 non-null    object\n",
      " 10  Alt line          522 non-null    object\n",
      " 11  RA obs            522 non-null    object\n",
      " 12  Dec obs           522 non-null    object\n",
      " 13  RA line           522 non-null    object\n",
      " 14  Dec line          522 non-null    object\n",
      " 15  X                 522 non-null    object\n",
      " 16  Y                 522 non-null    object\n",
      " 17  Z                 522 non-null    object\n",
      " 18  Latitude          522 non-null    object\n",
      " 19  Longitude         522 non-null    object\n",
      " 20  Height            522 non-null    object\n",
      " 21  Range             522 non-null    object\n",
      " 22  Length            522 non-null    object\n",
      " 23  State vect dist   522 non-null    object\n",
      " 24  Lag               522 non-null    object\n",
      " 25  Velocity          522 non-null    object\n",
      " 26  Vel prev avg      522 non-null    object\n",
      " 27  H res             522 non-null    object\n",
      " 28  V res             522 non-null    object\n",
      " 29  Ang res           522 non-null    object\n",
      " 30  AppMag            522 non-null    object\n",
      " 31  AbsMag            522 non-null    object\n",
      "dtypes: object(32)\n",
      "memory usage: 130.6+ KB\n",
      "None\n"
     ]
    }
   ],
   "source": [
    "# Remove rows with empty cells\n",
    "df = df.dropna()\n",
    "df = df.drop(0, axis='index')\n",
    "\n",
    "print(df.head())\n",
    "print(df.tail())\n",
    "print(df.info())"
   ]
  },
  {
   "cell_type": "code",
   "execution_count": 75,
   "id": "f3282fce-c3fa-480d-80f5-7878fc728632",
   "metadata": {},
   "outputs": [
    {
     "name": "stdout",
     "output_type": "stream",
     "text": [
      "0      90304.56\n",
      "1      90015.55\n",
      "2       89662.1\n",
      "3      89282.91\n",
      "4       88892.7\n",
      "         ...   \n",
      "509    27953.54\n",
      "510    27848.27\n",
      "511    27742.76\n",
      "512    27632.83\n",
      "513     27554.2\n",
      "Name: Height, Length: 514, dtype: object 0      11185.12\n",
      "1      10990.71\n",
      "2      13428.91\n",
      "3      14422.28\n",
      "4      14827.68\n",
      "         ...   \n",
      "509     4862.34\n",
      "510     4055.64\n",
      "511     4069.27\n",
      "512     4235.41\n",
      "513     3032.63\n",
      "Name: Velocity, Length: 514, dtype: object\n"
     ]
    }
   ],
   "source": [
    "# Remove rows in which velocity is zero\n",
    "mask = df['Velocity'] == '0'\n",
    "df = df[~mask]\n",
    "\n",
    "# Sort by height, highest to lowest\n",
    "df_sorted = df.sort_values(by=\"Height\", ascending=False, ignore_index=True)\n",
    "\n",
    "print(df_sorted[\"Height\"], df_sorted[\"Velocity\"])"
   ]
  },
  {
   "cell_type": "code",
   "execution_count": 76,
   "id": "11e5318f-5781-4c39-8534-482145186b5e",
   "metadata": {},
   "outputs": [
    {
     "name": "stdout",
     "output_type": "stream",
     "text": [
      "Fireball entry height = 90304.56 m\n",
      "Terminal height = 27554.2 m\n",
      "Entry velocity = 12970.94 m/s\n",
      "Terminal velocity = 3032.63 m/s\n"
     ]
    }
   ],
   "source": [
    "# Get number of rows containing numerical data (header row is 0)\n",
    "rows = len(df_sorted)\n",
    "\n",
    "h0 = float(7160) # Exponential atmosphere critical height\n",
    "he = float(df_sorted['Height'][0]) # entry height in m\n",
    "ht = float(df_sorted['Height'][rows-1]) # terminal height in m\n",
    "\n",
    "ve = float(df_sorted['Velocity'][0]) # entry velocity in m/s\n",
    "vt = float(df_sorted['Velocity'][rows-1]) # terminal velocity in m/s\n",
    "\n",
    "# Set initial velocity as mean of first 5 points\n",
    "ve = (float(df_sorted['Velocity'][0]) + float(df_sorted['Velocity'][1]) + float(df_sorted['Velocity'][2]) + float(df_sorted['Velocity'][3]) + float(df_sorted['Velocity'][4]))/5\n",
    "\n",
    "print(\"Fireball entry height =\", he, \"m\")\n",
    "print(\"Terminal height =\", ht, \"m\")\n",
    "print(\"Entry velocity =\", ve, \"m/s\")\n",
    "print(\"Terminal velocity =\", vt, \"m/s\")\n",
    "\n",
    "# Check outputs against the table printed above before moving on!"
   ]
  },
  {
   "cell_type": "code",
   "execution_count": 77,
   "id": "711a7696-b57f-4492-abec-5e59ea226a1f",
   "metadata": {},
   "outputs": [],
   "source": [
    "# Normalise heights to exponential atmosphere\n",
    "y = he/h0 # normalised entry height\n",
    "yt = ht/h0 # normalised terminal height\n",
    "alt = np.array(df_sorted['Height'], dtype='float')\n",
    "Yvalues = alt/h0"
   ]
  },
  {
   "cell_type": "code",
   "execution_count": 78,
   "id": "f6b48114-ca63-4a0d-b396-5553e84e2b99",
   "metadata": {},
   "outputs": [],
   "source": [
    "# Normalise velocity values\n",
    "vel = np.array(df_sorted['Velocity'], dtype='float')\n",
    "Vvalues = vel/ve"
   ]
  },
  {
   "cell_type": "code",
   "execution_count": 79,
   "id": "fe9c92df-075c-468c-aeb6-206acc921c8d",
   "metadata": {},
   "outputs": [
    {
     "name": "stdout",
     "output_type": "stream",
     "text": [
      "Entry mass = 1 kg estimated\n",
      "Entry angle = 41.8 degrees, 0.729547627333629 radians above horizontal\n"
     ]
    }
   ],
   "source": [
    "# Flight parameters and constants\n",
    "mu = 2/3. # rotation factor\n",
    "Ae = 1.209 # shape factor\n",
    "g = 9.81 # acceleration due to gravity in m/s/s\n",
    "Cd = 1 # drag coefficient\n",
    "Ca = 0.04 # ablation coefficient; use 0.02 for ordinary chondrites, 0.04 for carb/enstatite chondrites\n",
    "D0 = 1.29 # critical density of exponential atmosphere\n",
    "pi = 3.14159265358979\n",
    "e = 2.718281828459045\n",
    "\n",
    "# Define initial mass, meteoroid density and angle of entry, if known:\n",
    "m = 1 # entry mass in kg\n",
    "Dm = 2120 # meteoroid density in kg/m3\n",
    "slope = 41.8 # angle above horizontal, in degrees\n",
    "gamma = (slope*2*pi)/360 # angle above horizontal, in radians\n",
    "siny = math.sin(gamma)\n",
    "\n",
    "print(\"Entry mass =\", m, \"kg estimated\")\n",
    "print(\"Entry angle =\", slope, \"degrees,\", gamma, \"radians above horizontal\")"
   ]
  },
  {
   "cell_type": "code",
   "execution_count": 86,
   "id": "315d613f-a4da-4863-b84e-0a469d3ac471",
   "metadata": {
    "scrolled": true
   },
   "outputs": [],
   "source": [
    "# Define alpha and beta minimisation functions from Gritsevich (2007)\n",
    "\n",
    "def alpha_beta_Q4_min(Vvalues, Yvalues):\n",
    "    params = np.vstack((Vvalues, Yvalues))\n",
    "    b0 = 1.\n",
    "    a0 = np.exp(Yvalues[-1])/(2*b0)\n",
    "    x0 = [a0, b0]\n",
    "    xmin = [0.0001, 0.000001]\n",
    "    xmax = [10000, 50]\n",
    "    bnds = ((xmin[0], xmax[0]), (xmin[1], xmax[1]))\n",
    "    res = scipy.optimize.minimize(alpha_beta_min_fun, x0, args=(Vvalues, Yvalues), bounds=bnds)\n",
    "    return res.x\n",
    "\n",
    "def alpha_beta_min_fun(x, vvals, yvals): # Equation 7 in Gritsevich (2007)\n",
    "    res = 0\n",
    "    for i in range(len(vvals)):\n",
    "        res += pow(2*x[0]*np.exp(-yvals[i]) - (scipy.special.expi(x[1]) - scipy.special.expi(x[1]*vvals[i]**2))*np.exp(-x[1]), 2)\n",
    "    return res\n",
    "\n",
    "def Q4_min_v(velocities, heights, h0, V0, err=[]):\n",
    "    Yvalues = [j / h0 for j in heights] # normalisation of heights here\n",
    "    print(len(velocities))\n",
    "    b0 = 0.01\n",
    "    a0 = np.exp(Yvalues[-1])/(2. * b0)\n",
    "    x0 = [a0, b0, V0/10000]\n",
    "    xmin = [0.01, 0.00001, V0 * 0.99/10000] # /1000 is a hack to make velocities small so minimisation doesnt use stupid steps\n",
    "    xmax = [1000., 1000., V0 * 1.01/10000]\n",
    "    bnds = ((xmin[0], xmax[0]), (xmin[1], xmax[1]), (xmin[2], xmax[2]))\n",
    "    res = minimize(min_fun_v, x0, args=(velocities, Yvalues, err),bounds=bnds)\n",
    "    out = res.x\n",
    "    out[2]*=10000. # fix velocities for return\n",
    "    return out   \n",
    "\n",
    "def min_fun_v(x, velocities, yvals,err):\n",
    "    res = []\n",
    "    for i in range(len(velocities)):\n",
    "        vval = velocities[i] / (x[2]*10000.)\n",
    "        res.append(pow(2 * x[0] * np.exp(-yvals[i]) - (scipy.special.expi(x[1]) - scipy.special.expi(x[1]* vval**2) ) * np.exp(-x[1]) , 2))\n",
    "    \n",
    "    # print(velocities[0], x, np.nansum(res))\n",
    "    return np.nansum(res)\n",
    "\n",
    "def minimizeAlphaBeta_v(v_data, ht_normed, v_init):\n",
    "    def _alphaBetaMinimization(x, v_data, ht_normed):\n",
    "        # Normalize the velocity\n",
    "        v_normed = v_data/(x[2]*1000.)\n",
    "        alpha = x[0]\n",
    "        beta = x[1]\n",
    "\n",
    "        # Compute the sum of absolute residuals (more robust than squared residuals)\n",
    "        res = np.sum(np.abs(2*alpha*np.exp(-ht_normed) \\\n",
    "                         - (scipy.special.expi(beta) \\\n",
    "                            - scipy.special.expi(beta*v_normed**2))*np.exp(-beta)))\n",
    "        return res\n",
    "\n",
    "    # Compute initial alpha-beta guess\n",
    "    b0 = 1.0\n",
    "    a0 = np.exp(ht_normed[-1])/(2.0*b0)\n",
    "    x0 = [a0, b0, v_init/1000.]\n",
    "\n",
    "    # Set alpha-beta limits\n",
    "    xmin = [0.001, 0.00001, v_init * 0.9/1000] # /1000 is a hack to make velocities small so minimisation doesnt use stupid steps\n",
    "    xmax = [10000., 50., v_init * 1.1/1000]\n",
    "    bnds = ((xmin[0], xmax[0]), (xmin[1], xmax[1]), (xmin[2], xmax[2]))\n",
    "\n",
    "    # Compute best-fit alpha-beta values\n",
    "    res = scipy.optimize.minimize(_alphaBetaMinimization, x0, args=(v_data, ht_normed), bounds=bnds)\n",
    "    return res.x\n",
    "\n",
    "def fitAlphaBeta_v(v_data, ht_data, v_init=None):\n",
    "    # Compute the initial velocity, if it wasn't given already\n",
    "    if v_init is None:\n",
    "        max_index = int(0.2*len(v_data))\n",
    "        if max_index < 10:\n",
    "            max_index = 10\n",
    "        v_init = np.median(v_data[:max_index])\n",
    "\n",
    "    # Normalize the height\n",
    "    ht_normed = ht_data/HT_NORM_CONST\n",
    "\n",
    "    # Fit alpha and beta\n",
    "    alpha, beta, v_init =  minimizeAlphaBeta_v(v_data, ht_normed, v_init)\n",
    "    v_init *= 1000.\n",
    "    return v_init, alpha, beta"
   ]
  },
  {
   "cell_type": "code",
   "execution_count": 87,
   "id": "a25b8f2c-07c1-4bb4-b0c3-c55f66c35998",
   "metadata": {},
   "outputs": [
    {
     "name": "stdout",
     "output_type": "stream",
     "text": [
      "41.55958888778134 0.3283300029521132\n"
     ]
    }
   ],
   "source": [
    "# Calculate alpha and beta from minimisation functions\n",
    "\n",
    "Gparams = alpha_beta_Q4_min(Vvalues, Yvalues)\n",
    "alpha = Gparams[0]\n",
    "beta = Gparams[1]\n",
    "print(alpha, beta)"
   ]
  },
  {
   "cell_type": "code",
   "execution_count": 88,
   "id": "b7183a39-2705-40a3-bf12-5f97682fb237",
   "metadata": {},
   "outputs": [
    {
     "data": {
      "image/png": "[encoded data removed]",
      "text/plain": [
       "<Figure size 640x480 with 1 Axes>"
      ]
     },
     "metadata": {},
     "output_type": "display_data"
    }
   ],
   "source": [
    "# Display meteoroid velocity vs height\n",
    "plt.scatter(Vvalues, Yvalues, marker='.', label=None)\n",
    "plt.title(event)\n",
    "plt.xlabel(\"Normalised Velocity\")\n",
    "plt.ylabel(\"Normalised Altitude\")\n",
    "plt.show()"
   ]
  },
  {
   "cell_type": "code",
   "execution_count": 90,
   "id": "32c9f816-6c21-4b20-a3ff-fc847c2277ba",
   "metadata": {},
   "outputs": [
    {
     "data": {
      "application/vnd.jupyter.widget-view+json": {
       "model_id": "d5c736e95f2b4083a3551f8f8ac573ae",
       "version_major": 2,
       "version_minor": 0
      },
      "text/plain": [
       "interactive(children=(FloatSlider(value=12970.470000000001, description='V0', max=19456.41, min=6485.47, step=…"
      ]
     },
     "metadata": {},
     "output_type": "display_data"
    }
   ],
   "source": [
    "x = np.arange(0.1, 1, 0.0005);\n",
    "\n",
    "def f(V0, alpha, beta):\n",
    "    res = alpha_beta_min_fun([alpha, beta, ve], Vvalues, Yvalues)\n",
    "    Vvals = vel/V0\n",
    "    plt.scatter(Vvals, Yvalues, marker='.', label=None)\n",
    "    y = np.log(alpha) + beta - np.log((scipy.special.expi(beta) - scipy.special.expi(beta*x**2))/2)\n",
    "    plt.plot(x, y, color='g')\n",
    "    plt.show()\n",
    "    return(alpha, beta, V0)\n",
    "\n",
    "out = interact(f, V0=(ve*0.5, ve*1.5, 0.5), alpha=(0.01, 400, 0.1), beta=(0.001, 5, 0.001))"
   ]
  },
  {
   "cell_type": "code",
   "execution_count": 91,
   "id": "c4137827-2b16-4cb4-a923-a689d9539265",
   "metadata": {},
   "outputs": [
    {
     "name": "stdout",
     "output_type": "stream",
     "text": [
      "199.91 2.5 12970.470000000001\n"
     ]
    }
   ],
   "source": [
    "alpha_fit = out.widget.result[0]\n",
    "beta_fit = out.widget.result[1]\n",
    "v_fit = out.widget.result[2]\n",
    "\n",
    "print(alpha_fit, beta_fit, v_fit)"
   ]
  },
  {
   "cell_type": "code",
   "execution_count": 92,
   "id": "0314bf41-00b1-474a-9b6b-323df10e5877",
   "metadata": {},
   "outputs": [
    {
     "name": "stdout",
     "output_type": "stream",
     "text": [
      "Winchcombe\n",
      "ln(alpha) = 5.3\n",
      "ln(alpha.sin(gamma)) = 4.89\n",
      "ln)beta = 0.92\n",
      "log2_alpha_beta = 3.0\n",
      "Entry mass = 0.02 kg\n",
      "Ablation coefficient = 0.0892 kg/MJ\n",
      "Sectional area at entry = 0.0005 m2\n"
     ]
    }
   ],
   "source": [
    "# Calculate essential outputs\n",
    "\n",
    "lna = math.log(alpha_fit)\n",
    "lnasiny = math.log(alpha_fit*siny)\n",
    "lnb = math.log(beta_fit)\n",
    "log2ab = math.log10(2*alpha_fit*beta_fit)\n",
    "Ca = (2*beta_fit)/((v_fit/1000)*(v_fit/1000)*(1-mu)) # Ablation coefficient in kg/MJ\n",
    "Me = ((0.5*Cd*D0*h0*Ae)/(alpha_fit*siny*(Dm**(2/3.))))**3 # Entry mass in kg (spherical shape assumed?)\n",
    "Se = (2*alpha_fit*siny*Me)/(Cd*D0*h0) # Cross-sectional surface area in m2\n",
    "\n",
    "print(event)\n",
    "print(\"ln(alpha) =\", round(lna, 2))\n",
    "print(\"ln(alpha.sin(gamma)) =\", round(lnasiny, 2))\n",
    "print(\"ln)beta =\", round(lnb, 2))\n",
    "print(\"log2_alpha_beta =\", round(log2ab, 2))\n",
    "print(\"Entry mass =\", (round(Me, 2)), \"kg\")\n",
    "print(\"Ablation coefficient =\", (round(Ca, 4)), \"kg/MJ\")\n",
    "print(\"Sectional area at entry =\", (round(Se, 4)), \"m2\")"
   ]
  },
  {
   "cell_type": "code",
   "execution_count": null,
   "id": "046ef9b5-44e6-4984-b80c-b9f1380c4c14",
   "metadata": {},
   "outputs": [],
   "source": [
    "# Created by T.W.C. Stevenson, May 2024\n",
    "# References:\n",
    "# "
   ]
  }
 ],
 "metadata": {
  "kernelspec": {
   "display_name": "Python 3 (ipykernel)",
   "language": "python",
   "name": "python3"
  },
  "language_info": {
   "codemirror_mode": {
    "name": "ipython",
    "version": 3
   },
   "file_extension": ".py",
   "mimetype": "text/x-python",
   "name": "python",
   "nbconvert_exporter": "python",
   "pygments_lexer": "ipython3",
   "version": "3.11.7"
  }
 },
 "nbformat": 4,
 "nbformat_minor": 5
}
